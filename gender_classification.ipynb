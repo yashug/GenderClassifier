{
 "cells": [
  {
   "cell_type": "code",
   "execution_count": 15,
   "metadata": {},
   "outputs": [],
   "source": [
    "from sklearn.tree import DecisionTreeClassifier\n",
    "from sklearn.svm import SVC\n",
    "from sklearn.linear_model import Perceptron\n",
    "from sklearn.neighbors import KNeighborsClassifier\n",
    "from sklearn.metrics import accuracy_score\n",
    "\n",
    "import numpy as np"
   ]
  },
  {
   "cell_type": "code",
   "execution_count": 16,
   "metadata": {},
   "outputs": [],
   "source": [
    "# [height, weight, shoe_size]\n",
    "X = [[181, 80, 44], [177, 70, 43], [160, 60, 38], [154, 54, 37], [166, 65, 40], [190, 90, 47], [175, 64, 39],\n",
    "     [177, 70, 40], [159, 55, 37], [171, 75, 42], [181, 85, 43]]\n",
    "\n",
    "Y = ['male', 'male', 'female', 'female', 'male', 'male', 'female', 'female', 'female', 'male', 'male']"
   ]
  },
  {
   "cell_type": "code",
   "execution_count": 17,
   "metadata": {},
   "outputs": [],
   "source": [
    "# all classifiers\n",
    "clf_tree = DecisionTreeClassifier()\n",
    "clf_svm = SVC()\n",
    "clf_KNN = KNeighborsClassifier()\n",
    "clf_perceptron = Perceptron()"
   ]
  },
  {
   "cell_type": "code",
   "execution_count": 18,
   "metadata": {},
   "outputs": [
    {
     "data": {
      "text/plain": [
       "Perceptron(alpha=0.0001, class_weight=None, eta0=1.0, fit_intercept=True,\n",
       "      n_iter=5, n_jobs=1, penalty=None, random_state=0, shuffle=True,\n",
       "      verbose=0, warm_start=False)"
      ]
     },
     "execution_count": 18,
     "metadata": {},
     "output_type": "execute_result"
    }
   ],
   "source": [
    "# Train the models\n",
    "clf_tree.fit(X,Y)\n",
    "clf_svm.fit(X,Y)\n",
    "clf_KNN.fit(X,Y)\n",
    "clf_perceptron.fit(X,Y)"
   ]
  },
  {
   "cell_type": "code",
   "execution_count": 19,
   "metadata": {},
   "outputs": [
    {
     "name": "stdout",
     "output_type": "stream",
     "text": [
      "Accuracy for DecisionTree:  100.0\n",
      "Accuracy for SVM:  100.0\n",
      "Accuracy for KNN:  72.7272727273\n",
      "Accuracy for Perceptron:  54.5454545455\n"
     ]
    }
   ],
   "source": [
    "# Testing using the sasme data\n",
    "pred_tree = clf_tree.predict(X)\n",
    "acc_tree = accuracy_score(Y, pred_tree) * 100\n",
    "print('Accuracy for DecisionTree: ', acc_tree)\n",
    "\n",
    "pred_svm = clf_svm.predict(X)\n",
    "acc_svm = accuracy_score(Y, pred_svm) * 100\n",
    "print('Accuracy for SVM: ', acc_svm)\n",
    "\n",
    "pred_KNN = clf_KNN.predict(X)\n",
    "acc_KNN = accuracy_score(Y, pred_KNN) * 100\n",
    "print('Accuracy for KNN: ', acc_KNN)\n",
    "\n",
    "pred_perceptron = clf_perceptron.predict(X)\n",
    "acc_perceptron = accuracy_score(Y, pred_perceptron) * 100\n",
    "print('Accuracy for Perceptron: ', acc_perceptron)"
   ]
  },
  {
   "cell_type": "code",
   "execution_count": 20,
   "metadata": {},
   "outputs": [
    {
     "name": "stdout",
     "output_type": "stream",
     "text": [
      "Best classifier is:  SVM\n"
     ]
    }
   ],
   "source": [
    "# Best classifier from SVM, KNN, Perceptron\n",
    "index = np.argmax([acc_svm, acc_KNN, acc_perceptron])\n",
    "classifiers = {0: 'SVM', 1: 'KNN', 2: 'Perceptron'}\n",
    "print('Best classifier is: ', classifiers[index])"
   ]
  }
 ],
 "metadata": {
  "kernelspec": {
   "display_name": "Python 3",
   "language": "python",
   "name": "python3"
  },
  "language_info": {
   "codemirror_mode": {
    "name": "ipython",
    "version": 3
   },
   "file_extension": ".py",
   "mimetype": "text/x-python",
   "name": "python",
   "nbconvert_exporter": "python",
   "pygments_lexer": "ipython3",
   "version": "3.6.1"
  }
 },
 "nbformat": 4,
 "nbformat_minor": 2
}
